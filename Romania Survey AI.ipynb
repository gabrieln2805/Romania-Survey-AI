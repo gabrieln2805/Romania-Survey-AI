{
 "cells": [
  {
   "cell_type": "code",
   "execution_count": 3,
   "id": "7b580f92",
   "metadata": {},
   "outputs": [],
   "source": [
    "import matplotlib.pyplot as plt\n",
    "import seaborn as sns\n",
    "import pandas as pd\n",
    "import numpy as np"
   ]
  },
  {
   "cell_type": "code",
   "execution_count": 4,
   "id": "90d151f0",
   "metadata": {},
   "outputs": [],
   "source": [
    "df = pd.read_csv(\"B:\\Baze de date\\Survey_AI_Romania.csv\")"
   ]
  },
  {
   "cell_type": "code",
   "execution_count": 9,
   "id": "69f9f4ae",
   "metadata": {},
   "outputs": [
    {
     "data": {
      "text/html": [
       "<div>\n",
       "<style scoped>\n",
       "    .dataframe tbody tr th:only-of-type {\n",
       "        vertical-align: middle;\n",
       "    }\n",
       "\n",
       "    .dataframe tbody tr th {\n",
       "        vertical-align: top;\n",
       "    }\n",
       "\n",
       "    .dataframe thead th {\n",
       "        text-align: right;\n",
       "    }\n",
       "</style>\n",
       "<table border=\"1\" class=\"dataframe\">\n",
       "  <thead>\n",
       "    <tr style=\"text-align: right;\">\n",
       "      <th></th>\n",
       "      <th>ID</th>\n",
       "      <th>Q1.AI_knowledge</th>\n",
       "      <th>Q2.AI_sources</th>\n",
       "      <th>Q2#1.Internet</th>\n",
       "      <th>Q2#2.Books/Papers</th>\n",
       "      <th>Q2#3.Social_media</th>\n",
       "      <th>Q2#4.Discussions</th>\n",
       "      <th>Q2#5.NotInformed</th>\n",
       "      <th>Q3#1.AI_dehumanization</th>\n",
       "      <th>Q3#2.Job_replacement</th>\n",
       "      <th>...</th>\n",
       "      <th>Q7.Utility_grade</th>\n",
       "      <th>Q8.Advantage_teaching</th>\n",
       "      <th>Q9.Advantage_learning</th>\n",
       "      <th>Q10.Advantage_evaluation</th>\n",
       "      <th>Q11.Disadvantage_educational_process</th>\n",
       "      <th>Q12.Gender</th>\n",
       "      <th>Q13.Year_of_study</th>\n",
       "      <th>Q14.Major</th>\n",
       "      <th>Q15.Passed_exams</th>\n",
       "      <th>Q16.GPA</th>\n",
       "    </tr>\n",
       "  </thead>\n",
       "  <tbody>\n",
       "    <tr>\n",
       "      <th>0</th>\n",
       "      <td>1</td>\n",
       "      <td>8</td>\n",
       "      <td>Internet;Books/Scientific papers (physical/onl...</td>\n",
       "      <td>1</td>\n",
       "      <td>1</td>\n",
       "      <td>0</td>\n",
       "      <td>0</td>\n",
       "      <td>0</td>\n",
       "      <td>1</td>\n",
       "      <td>2</td>\n",
       "      <td>...</td>\n",
       "      <td>9</td>\n",
       "      <td>3</td>\n",
       "      <td>1</td>\n",
       "      <td>2</td>\n",
       "      <td>3</td>\n",
       "      <td>1</td>\n",
       "      <td>2</td>\n",
       "      <td>2</td>\n",
       "      <td>1</td>\n",
       "      <td>9.2</td>\n",
       "    </tr>\n",
       "    <tr>\n",
       "      <th>1</th>\n",
       "      <td>2</td>\n",
       "      <td>7</td>\n",
       "      <td>Internet;Social media</td>\n",
       "      <td>1</td>\n",
       "      <td>0</td>\n",
       "      <td>1</td>\n",
       "      <td>0</td>\n",
       "      <td>0</td>\n",
       "      <td>2</td>\n",
       "      <td>3</td>\n",
       "      <td>...</td>\n",
       "      <td>6</td>\n",
       "      <td>2</td>\n",
       "      <td>2</td>\n",
       "      <td>1</td>\n",
       "      <td>2</td>\n",
       "      <td>2</td>\n",
       "      <td>2</td>\n",
       "      <td>2</td>\n",
       "      <td>1</td>\n",
       "      <td>7.7</td>\n",
       "    </tr>\n",
       "    <tr>\n",
       "      <th>2</th>\n",
       "      <td>3</td>\n",
       "      <td>5</td>\n",
       "      <td>Internet;Books/Scientific papers (physical/onl...</td>\n",
       "      <td>1</td>\n",
       "      <td>1</td>\n",
       "      <td>0</td>\n",
       "      <td>0</td>\n",
       "      <td>0</td>\n",
       "      <td>2</td>\n",
       "      <td>1</td>\n",
       "      <td>...</td>\n",
       "      <td>6</td>\n",
       "      <td>3</td>\n",
       "      <td>3</td>\n",
       "      <td>3</td>\n",
       "      <td>4</td>\n",
       "      <td>2</td>\n",
       "      <td>2</td>\n",
       "      <td>2</td>\n",
       "      <td>0</td>\n",
       "      <td>7.2</td>\n",
       "    </tr>\n",
       "    <tr>\n",
       "      <th>3</th>\n",
       "      <td>4</td>\n",
       "      <td>5</td>\n",
       "      <td>Internet;Social media</td>\n",
       "      <td>1</td>\n",
       "      <td>0</td>\n",
       "      <td>1</td>\n",
       "      <td>0</td>\n",
       "      <td>0</td>\n",
       "      <td>4</td>\n",
       "      <td>4</td>\n",
       "      <td>...</td>\n",
       "      <td>9</td>\n",
       "      <td>1</td>\n",
       "      <td>2</td>\n",
       "      <td>2</td>\n",
       "      <td>3</td>\n",
       "      <td>1</td>\n",
       "      <td>2</td>\n",
       "      <td>2</td>\n",
       "      <td>1</td>\n",
       "      <td>8.2</td>\n",
       "    </tr>\n",
       "    <tr>\n",
       "      <th>4</th>\n",
       "      <td>5</td>\n",
       "      <td>4</td>\n",
       "      <td>Internet</td>\n",
       "      <td>1</td>\n",
       "      <td>0</td>\n",
       "      <td>0</td>\n",
       "      <td>0</td>\n",
       "      <td>0</td>\n",
       "      <td>1</td>\n",
       "      <td>2</td>\n",
       "      <td>...</td>\n",
       "      <td>8</td>\n",
       "      <td>3</td>\n",
       "      <td>2</td>\n",
       "      <td>3</td>\n",
       "      <td>4</td>\n",
       "      <td>1</td>\n",
       "      <td>2</td>\n",
       "      <td>2</td>\n",
       "      <td>1</td>\n",
       "      <td>7.7</td>\n",
       "    </tr>\n",
       "  </tbody>\n",
       "</table>\n",
       "<p>5 rows × 35 columns</p>\n",
       "</div>"
      ],
      "text/plain": [
       "   ID  Q1.AI_knowledge                                      Q2.AI_sources  \\\n",
       "0   1                8  Internet;Books/Scientific papers (physical/onl...   \n",
       "1   2                7                              Internet;Social media   \n",
       "2   3                5  Internet;Books/Scientific papers (physical/onl...   \n",
       "3   4                5                              Internet;Social media   \n",
       "4   5                4                                           Internet   \n",
       "\n",
       "   Q2#1.Internet  Q2#2.Books/Papers  Q2#3.Social_media  Q2#4.Discussions  \\\n",
       "0              1                  1                  0                 0   \n",
       "1              1                  0                  1                 0   \n",
       "2              1                  1                  0                 0   \n",
       "3              1                  0                  1                 0   \n",
       "4              1                  0                  0                 0   \n",
       "\n",
       "   Q2#5.NotInformed  Q3#1.AI_dehumanization  Q3#2.Job_replacement  ...  \\\n",
       "0                 0                       1                     2  ...   \n",
       "1                 0                       2                     3  ...   \n",
       "2                 0                       2                     1  ...   \n",
       "3                 0                       4                     4  ...   \n",
       "4                 0                       1                     2  ...   \n",
       "\n",
       "   Q7.Utility_grade  Q8.Advantage_teaching  Q9.Advantage_learning  \\\n",
       "0                 9                      3                      1   \n",
       "1                 6                      2                      2   \n",
       "2                 6                      3                      3   \n",
       "3                 9                      1                      2   \n",
       "4                 8                      3                      2   \n",
       "\n",
       "   Q10.Advantage_evaluation   Q11.Disadvantage_educational_process  \\\n",
       "0                          2                                     3   \n",
       "1                          1                                     2   \n",
       "2                          3                                     4   \n",
       "3                          2                                     3   \n",
       "4                          3                                     4   \n",
       "\n",
       "   Q12.Gender  Q13.Year_of_study Q14.Major  Q15.Passed_exams  Q16.GPA  \n",
       "0           1                  2         2                 1      9.2  \n",
       "1           2                  2         2                 1      7.7  \n",
       "2           2                  2         2                 0      7.2  \n",
       "3           1                  2         2                 1      8.2  \n",
       "4           1                  2         2                 1      7.7  \n",
       "\n",
       "[5 rows x 35 columns]"
      ]
     },
     "execution_count": 9,
     "metadata": {},
     "output_type": "execute_result"
    }
   ],
   "source": [
    "df.head(5)"
   ]
  },
  {
   "cell_type": "code",
   "execution_count": 6,
   "id": "d7fc803e",
   "metadata": {},
   "outputs": [],
   "source": [
    "import matplotlib.pyplot as plt\n",
    "import seaborn as sns\n",
    "sns.set()\n",
    "%matplotlib inline"
   ]
  },
  {
   "cell_type": "code",
   "execution_count": 7,
   "id": "543a5203",
   "metadata": {},
   "outputs": [
    {
     "data": {
      "text/plain": [
       "ID                                      0\n",
       "Q1.AI_knowledge                         0\n",
       "Q2.AI_sources                           0\n",
       "Q2#1.Internet                           0\n",
       "Q2#2.Books/Papers                       0\n",
       "Q2#3.Social_media                       0\n",
       "Q2#4.Discussions                        0\n",
       "Q2#5.NotInformed                        0\n",
       "Q3#1.AI_dehumanization                  0\n",
       "Q3#2.Job_replacement                    0\n",
       "Q3#3.Problem_solving                    0\n",
       "Q3#4.AI_rulling_society                 0\n",
       "Q4#1.AI_costly                          0\n",
       "Q4#2.Economic_crisis                    0\n",
       "Q4#3.Economic_growth                    0\n",
       "Q4#4.Job_loss                           0\n",
       "Q5.Feelings                             0\n",
       "Q6.Domains                              0\n",
       "Q6#1.Education                          0\n",
       "Q6#2.Medicine                           0\n",
       "Q6#3.Agriculture                        0\n",
       "Q6#4.Constructions                      0\n",
       "Q6#5.Marketing                          0\n",
       "Q6#6.Administration                     0\n",
       "Q6#7.Art                                0\n",
       "Q7.Utility_grade                        0\n",
       "Q8.Advantage_teaching                   0\n",
       "Q9.Advantage_learning                   0\n",
       "Q10.Advantage_evaluation                0\n",
       "Q11.Disadvantage_educational_process    0\n",
       "Q12.Gender                              0\n",
       "Q13.Year_of_study                       0\n",
       "Q14.Major                               0\n",
       "Q15.Passed_exams                        0\n",
       "Q16.GPA                                 0\n",
       "dtype: int64"
      ]
     },
     "execution_count": 7,
     "metadata": {},
     "output_type": "execute_result"
    }
   ],
   "source": [
    "df.isnull().sum()\n"
   ]
  },
  {
   "cell_type": "code",
   "execution_count": null,
   "id": "e967e312",
   "metadata": {},
   "outputs": [],
   "source": [
    "##Question 1 On a scale of 1 to 10, how informed do you think you are about the concept of artificial intelligence? (1-not informed at all, 10-extremely informed)"
   ]
  },
  {
   "cell_type": "code",
   "execution_count": 10,
   "id": "dd4dcce0",
   "metadata": {},
   "outputs": [
    {
     "data": {
      "text/plain": [
       "[Text(0.5, 0, 'Rating cunostinte despre AI'),\n",
       " Text(0, 0.5, 'Numarul raspunsurilor'),\n",
       " Text(0.5, 1.0, 'Chart cunostinte generale AI')]"
      ]
     },
     "execution_count": 10,
     "metadata": {},
     "output_type": "execute_result"
    },
    {
     "data": {
      "image/png": "[encoded data removed]",
      "text/plain": [
       "<Figure size 640x480 with 1 Axes>"
      ]
     },
     "metadata": {},
     "output_type": "display_data"
    }
   ],
   "source": [
    "fig1 = sns.countplot(data=df,x='Q1.AI_knowledge',color='r')\n",
    "fig1.set(xlabel='Rating cunostinte despre AI',ylabel='Numarul raspunsurilor',title='Chart cunostinte generale AI')"
   ]
  },
  {
   "cell_type": "code",
   "execution_count": null,
   "id": "bdede4b6",
   "metadata": {},
   "outputs": [],
   "source": [
    "##Question 2 What sources do you use to learn about the concept of artificial intelligence?"
   ]
  },
  {
   "cell_type": "code",
   "execution_count": 11,
   "id": "986ebd84",
   "metadata": {},
   "outputs": [
    {
     "data": {
      "image/png": "[encoded data removed]",
      "text/plain": [
       "<Figure size 800x800 with 5 Axes>"
      ]
     },
     "metadata": {},
     "output_type": "display_data"
    }
   ],
   "source": [
    "fig, (ax1, ax2, ax3, ax4, ax5) = plt.subplots(nrows=1, ncols=5, figsize=(8, 8))\n",
    "axes = [ax1,ax2,ax3,ax4,ax5]\n",
    "columns = ['Q2#1.Internet','Q2#2.Books/Papers','Q2#3.Social_media','Q2#4.Discussions','Q2#5.NotInformed']\n",
    "for i in range(5):\n",
    "    axes[i].pie(df[columns[i]].value_counts()[[0,1]],colors='rg',startangle=90,labels=['no','yes'])\n",
    "    axes[i].set_title(columns[i][5:])\n",
    "plt.show()"
   ]
  },
  {
   "cell_type": "code",
   "execution_count": null,
   "id": "3e88f30d",
   "metadata": {},
   "outputs": [],
   "source": [
    "##2ii is there any correlation betweent the sources used?"
   ]
  },
  {
   "cell_type": "code",
   "execution_count": 12,
   "id": "6ee5cd77",
   "metadata": {},
   "outputs": [
    {
     "data": {
      "text/html": [
       "<div>\n",
       "<style scoped>\n",
       "    .dataframe tbody tr th:only-of-type {\n",
       "        vertical-align: middle;\n",
       "    }\n",
       "\n",
       "    .dataframe tbody tr th {\n",
       "        vertical-align: top;\n",
       "    }\n",
       "\n",
       "    .dataframe thead th {\n",
       "        text-align: right;\n",
       "    }\n",
       "</style>\n",
       "<table border=\"1\" class=\"dataframe\">\n",
       "  <thead>\n",
       "    <tr style=\"text-align: right;\">\n",
       "      <th></th>\n",
       "      <th>Q2#1.Internet</th>\n",
       "      <th>Q2#2.Books/Papers</th>\n",
       "      <th>Q2#3.Social_media</th>\n",
       "      <th>Q2#4.Discussions</th>\n",
       "      <th>Q2#5.NotInformed</th>\n",
       "    </tr>\n",
       "  </thead>\n",
       "  <tbody>\n",
       "    <tr>\n",
       "      <th>Q2#1.Internet</th>\n",
       "      <td>1.00</td>\n",
       "      <td>-0.00</td>\n",
       "      <td>0.14</td>\n",
       "      <td>0.10</td>\n",
       "      <td>-0.55</td>\n",
       "    </tr>\n",
       "    <tr>\n",
       "      <th>Q2#2.Books/Papers</th>\n",
       "      <td>-0.00</td>\n",
       "      <td>1.00</td>\n",
       "      <td>0.04</td>\n",
       "      <td>0.10</td>\n",
       "      <td>-0.20</td>\n",
       "    </tr>\n",
       "    <tr>\n",
       "      <th>Q2#3.Social_media</th>\n",
       "      <td>0.14</td>\n",
       "      <td>0.04</td>\n",
       "      <td>1.00</td>\n",
       "      <td>0.28</td>\n",
       "      <td>-0.24</td>\n",
       "    </tr>\n",
       "    <tr>\n",
       "      <th>Q2#4.Discussions</th>\n",
       "      <td>0.10</td>\n",
       "      <td>0.10</td>\n",
       "      <td>0.28</td>\n",
       "      <td>1.00</td>\n",
       "      <td>-0.13</td>\n",
       "    </tr>\n",
       "    <tr>\n",
       "      <th>Q2#5.NotInformed</th>\n",
       "      <td>-0.55</td>\n",
       "      <td>-0.20</td>\n",
       "      <td>-0.24</td>\n",
       "      <td>-0.13</td>\n",
       "      <td>1.00</td>\n",
       "    </tr>\n",
       "  </tbody>\n",
       "</table>\n",
       "</div>"
      ],
      "text/plain": [
       "                   Q2#1.Internet  Q2#2.Books/Papers  Q2#3.Social_media  \\\n",
       "Q2#1.Internet               1.00              -0.00               0.14   \n",
       "Q2#2.Books/Papers          -0.00               1.00               0.04   \n",
       "Q2#3.Social_media           0.14               0.04               1.00   \n",
       "Q2#4.Discussions            0.10               0.10               0.28   \n",
       "Q2#5.NotInformed           -0.55              -0.20              -0.24   \n",
       "\n",
       "                   Q2#4.Discussions  Q2#5.NotInformed  \n",
       "Q2#1.Internet                  0.10             -0.55  \n",
       "Q2#2.Books/Papers              0.10             -0.20  \n",
       "Q2#3.Social_media              0.28             -0.24  \n",
       "Q2#4.Discussions               1.00             -0.13  \n",
       "Q2#5.NotInformed              -0.13              1.00  "
      ]
     },
     "execution_count": 12,
     "metadata": {},
     "output_type": "execute_result"
    }
   ],
   "source": [
    "df[['Q2#1.Internet','Q2#2.Books/Papers','Q2#3.Social_media','Q2#4.Discussions','Q2#5.NotInformed']].corr().round(2)"
   ]
  },
  {
   "cell_type": "code",
   "execution_count": null,
   "id": "93526f68",
   "metadata": {},
   "outputs": [],
   "source": [
    "##2iii how is a student's ai knowledge rating related to their sources of information?\n",
    "\n"
   ]
  },
  {
   "cell_type": "code",
   "execution_count": 18,
   "id": "83f8f0dd",
   "metadata": {},
   "outputs": [
    {
     "data": {
      "text/plain": [
       "['Q2#1.Internet',\n",
       " 'Q2#2.Books/Papers',\n",
       " 'Q2#3.Social_media',\n",
       " 'Q2#4.Discussions',\n",
       " 'Q2#5.NotInformed']"
      ]
     },
     "execution_count": 18,
     "metadata": {},
     "output_type": "execute_result"
    }
   ],
   "source": [
    "columns"
   ]
  },
  {
   "cell_type": "code",
   "execution_count": 13,
   "id": "2f592828",
   "metadata": {},
   "outputs": [
    {
     "data": {
      "text/html": [
       "<div>\n",
       "<style scoped>\n",
       "    .dataframe tbody tr th:only-of-type {\n",
       "        vertical-align: middle;\n",
       "    }\n",
       "\n",
       "    .dataframe tbody tr th {\n",
       "        vertical-align: top;\n",
       "    }\n",
       "\n",
       "    .dataframe thead th {\n",
       "        text-align: right;\n",
       "    }\n",
       "</style>\n",
       "<table border=\"1\" class=\"dataframe\">\n",
       "  <thead>\n",
       "    <tr style=\"text-align: right;\">\n",
       "      <th></th>\n",
       "      <th>No - MeanQ1</th>\n",
       "      <th>Yes - MeanQ1</th>\n",
       "      <th>Absolute Change</th>\n",
       "    </tr>\n",
       "    <tr>\n",
       "      <th>Answer</th>\n",
       "      <th></th>\n",
       "      <th></th>\n",
       "      <th></th>\n",
       "    </tr>\n",
       "  </thead>\n",
       "  <tbody>\n",
       "    <tr>\n",
       "      <th>Q2#1.Internet</th>\n",
       "      <td>5.00</td>\n",
       "      <td>6.12</td>\n",
       "      <td>1.12</td>\n",
       "    </tr>\n",
       "    <tr>\n",
       "      <th>Q2#2.Books/Papers</th>\n",
       "      <td>5.42</td>\n",
       "      <td>6.81</td>\n",
       "      <td>1.39</td>\n",
       "    </tr>\n",
       "    <tr>\n",
       "      <th>Q2#3.Social_media</th>\n",
       "      <td>5.41</td>\n",
       "      <td>6.55</td>\n",
       "      <td>1.14</td>\n",
       "    </tr>\n",
       "    <tr>\n",
       "      <th>Q2#4.Discussions</th>\n",
       "      <td>5.85</td>\n",
       "      <td>6.17</td>\n",
       "      <td>0.32</td>\n",
       "    </tr>\n",
       "    <tr>\n",
       "      <th>Q2#5.NotInformed</th>\n",
       "      <td>6.13</td>\n",
       "      <td>2.83</td>\n",
       "      <td>-3.30</td>\n",
       "    </tr>\n",
       "  </tbody>\n",
       "</table>\n",
       "</div>"
      ],
      "text/plain": [
       "                   No - MeanQ1  Yes - MeanQ1  Absolute Change\n",
       "Answer                                                       \n",
       "Q2#1.Internet             5.00          6.12             1.12\n",
       "Q2#2.Books/Papers         5.42          6.81             1.39\n",
       "Q2#3.Social_media         5.41          6.55             1.14\n",
       "Q2#4.Discussions          5.85          6.17             0.32\n",
       "Q2#5.NotInformed          6.13          2.83            -3.30"
      ]
     },
     "execution_count": 13,
     "metadata": {},
     "output_type": "execute_result"
    }
   ],
   "source": [
    "list = []\n",
    "for i in columns:\n",
    "    x1 = df[df[i]==0]['Q1.AI_knowledge'].mean().round(2)\n",
    "    x2 = df[df[i]==1]['Q1.AI_knowledge'].mean().round(2)\n",
    "    list.append([i,x1,x2,x2-x1])\n",
    "df2 = pd.DataFrame(list)\n",
    "df2.columns = ['Answer', 'No - MeanQ1', 'Yes - MeanQ1', 'Absolute Change']\n",
    "df2.set_index(['Answer'],inplace=True)\n",
    "df2.head(5)"
   ]
  },
  {
   "cell_type": "code",
   "execution_count": null,
   "id": "3c14267b",
   "metadata": {},
   "outputs": [],
   "source": []
  }
 ],
 "metadata": {
  "kernelspec": {
   "display_name": "Python 3 (ipykernel)",
   "language": "python",
   "name": "python3"
  },
  "language_info": {
   "codemirror_mode": {
    "name": "ipython",
    "version": 3
   },
   "file_extension": ".py",
   "mimetype": "text/x-python",
   "name": "python",
   "nbconvert_exporter": "python",
   "pygments_lexer": "ipython3",
   "version": "3.10.9"
  }
 },
 "nbformat": 4,
 "nbformat_minor": 5
}
